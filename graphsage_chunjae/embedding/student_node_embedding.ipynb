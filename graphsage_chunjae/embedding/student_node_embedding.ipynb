{
 "cells": [
  {
   "cell_type": "code",
   "execution_count": 4,
   "metadata": {},
   "outputs": [
    {
     "name": "stdout",
     "output_type": "stream",
     "text": [
      "변환된 데이터가 transformed_student_to_concept_data.json 파일에 성공적으로 저장되었습니다.\n"
     ]
    }
   ],
   "source": [
    "import json\n",
    "import random\n",
    "\n",
    "# JSON 파일 읽기\n",
    "with open('../student_to_concept_data.json', 'r') as file:\n",
    "    student_to_concept_data = json.load(file)\n",
    "\n",
    "# 변환할 데이터 저장용 딕셔너리\n",
    "transformed_data = {}\n",
    "\n",
    "# 데이터 변환\n",
    "for userid, f_mchapter_id in student_to_concept_data:\n",
    "    if userid not in transformed_data:\n",
    "        transformed_data[userid] = {}\n",
    "    \n",
    "    # 중단원에 대한 임의의 난이도/이해도 값 추가 (0.1 ~ 1.0 범위)\n",
    "    transformed_data[userid][f_mchapter_id] = round(random.uniform(0.1, 1.0), 2)\n",
    "\n",
    "# 변환된 데이터 저장\n",
    "output_json = 'transformed_student_to_concept_data.json'\n",
    "with open(output_json, 'w') as file:\n",
    "    json.dump(transformed_data, file, indent=4)\n",
    "\n",
    "print(f\"변환된 데이터가 {output_json} 파일에 성공적으로 저장되었습니다.\")"
   ]
  }
 ],
 "metadata": {
  "kernelspec": {
   "display_name": "pinsage",
   "language": "python",
   "name": "python3"
  },
  "language_info": {
   "codemirror_mode": {
    "name": "ipython",
    "version": 3
   },
   "file_extension": ".py",
   "mimetype": "text/x-python",
   "name": "python",
   "nbconvert_exporter": "python",
   "pygments_lexer": "ipython3",
   "version": "3.8.20"
  }
 },
 "nbformat": 4,
 "nbformat_minor": 2
}
