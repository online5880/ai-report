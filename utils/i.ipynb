{
 "cells": [
  {
   "cell_type": "code",
   "execution_count": 1,
   "metadata": {},
   "outputs": [],
   "source": [
    "import s3_utils\n",
    "\n",
    "s3_util = s3_utils.S3Utils()\n"
   ]
  },
  {
   "cell_type": "code",
   "execution_count": 2,
   "metadata": {},
   "outputs": [
    {
     "data": {
      "text/plain": [
       "['data/e_content_meta.csv',\n",
       " 'data/t_problem_analysis.csv',\n",
       " 'data/tbl_app_testhisdtl/tbl_app_testhisdtl_202401.parquet',\n",
       " 'data/tbl_app_testhisdtl/tbl_app_testhisdtl_202402.parquet',\n",
       " 'data/tbl_app_testhisdtl/tbl_app_testhisdtl_202403.parquet',\n",
       " 'data/tbl_app_testhisdtl/tbl_app_testhisdtl_202404.parquet',\n",
       " 'data/tbl_app_testhisdtl/tbl_app_testhisdtl_202405.parquet',\n",
       " 'data/tbl_app_testhisdtl/tbl_app_testhisdtl_202406.parquet',\n",
       " 'data/tbl_app_testhisdtl/tbl_app_testhisdtl_202407.parquet',\n",
       " 'data/tbl_app_testhisdtl/tbl_app_testhisdtl_202408.parquet',\n",
       " 'data/tbl_app_testhisdtl/tbl_app_testhisdtl_202409.parquet',\n",
       " 'data/tbl_app_testhisdtl/tbl_app_testhisdtl_202410.parquet',\n",
       " 'data/문항_샘플데이터_20.xlsx']"
      ]
     },
     "execution_count": 2,
     "metadata": {},
     "output_type": "execute_result"
    }
   ],
   "source": [
    "s3_util.list_files()"
   ]
  },
  {
   "cell_type": "code",
   "execution_count": 3,
   "metadata": {},
   "outputs": [
    {
     "name": "stdout",
     "output_type": "stream",
     "text": [
      "<class 's3_utils.S3Utils'>\n"
     ]
    }
   ],
   "source": [
    "print(type(s3_util))"
   ]
  },
  {
   "cell_type": "code",
   "execution_count": 4,
   "metadata": {},
   "outputs": [
    {
     "name": "stdout",
     "output_type": "stream",
     "text": [
      "Downloading file with key: data/t_problem_analysis.csv, local_path: c.csv\n"
     ]
    }
   ],
   "source": [
    "# S3에서 파일 다운로드 및 내용 반환\n",
    "file_content = s3_util.download_file(\"data/t_problem_analysis.csv\",\"c.csv\")"
   ]
  },
  {
   "cell_type": "code",
   "execution_count": null,
   "metadata": {},
   "outputs": [],
   "source": []
  }
 ],
 "metadata": {
  "kernelspec": {
   "display_name": "report",
   "language": "python",
   "name": "python3"
  },
  "language_info": {
   "codemirror_mode": {
    "name": "ipython",
    "version": 3
   },
   "file_extension": ".py",
   "mimetype": "text/x-python",
   "name": "python",
   "nbconvert_exporter": "python",
   "pygments_lexer": "ipython3",
   "version": "3.8.20"
  }
 },
 "nbformat": 4,
 "nbformat_minor": 2
}
