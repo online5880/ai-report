{
 "cells": [
  {
   "cell_type": "code",
   "execution_count": 1,
   "metadata": {},
   "outputs": [],
   "source": [
    "import psycopg2\n",
    "import polars as pl\n",
    "import pandas as pd\n",
    "\n",
    "# AWS RDS 연결 정보 설정\n",
    "db_config = {\n",
    "    \"host\": \"bigdata-team-01.cfsgom2iusui.ap-northeast-2.rds.amazonaws.com\",  # RDS 엔드포인트\n",
    "    \"port\": 5432,                               # PostgreSQL 기본 포트\n",
    "    \"database\": \"math_db\",                # 데이터베이스 이름\n",
    "    \"user\": \"postgres\",                    # 사용자 이름\n",
    "    \"password\": \"bigdata9-\",                # 비밀번호\n",
    "}\n"
   ]
  },
  {
   "cell_type": "code",
   "execution_count": 2,
   "metadata": {},
   "outputs": [
    {
     "name": "stdout",
     "output_type": "stream",
     "text": [
      "AWS RDS 연결 성공\n",
      "RDS 연결 닫힘\n"
     ]
    },
    {
     "ename": "UndefinedTable",
     "evalue": "relation \"user_testhistory\" does not exist\nLINE 1: SELECT * FROM user_testhistory;\n                      ^\n",
     "output_type": "error",
     "traceback": [
      "\u001b[1;31m---------------------------------------------------------------------------\u001b[0m",
      "\u001b[1;31mUndefinedTable\u001b[0m                            Traceback (most recent call last)",
      "Cell \u001b[1;32mIn[2], line 13\u001b[0m\n\u001b[0;32m     11\u001b[0m query \u001b[38;5;241m=\u001b[39m \u001b[38;5;124m\"\u001b[39m\u001b[38;5;124mSELECT * FROM user_testhistory;\u001b[39m\u001b[38;5;124m\"\u001b[39m  \u001b[38;5;66;03m# 원하는 SQL 쿼리\u001b[39;00m\n\u001b[0;32m     12\u001b[0m \u001b[38;5;66;03m# Polars에서 직접 SQL 실행 및 DataFrame 변환\u001b[39;00m\n\u001b[1;32m---> 13\u001b[0m polars_df \u001b[38;5;241m=\u001b[39m \u001b[43mpl\u001b[49m\u001b[38;5;241;43m.\u001b[39;49m\u001b[43mread_database\u001b[49m\u001b[43m(\u001b[49m\u001b[43mquery\u001b[49m\u001b[43m,\u001b[49m\u001b[43m \u001b[49m\u001b[43mconnection\u001b[49m\u001b[38;5;241;43m=\u001b[39;49m\u001b[43mconn\u001b[49m\u001b[43m)\u001b[49m\n\u001b[0;32m     15\u001b[0m \u001b[38;5;66;03m# 결과 출력\u001b[39;00m\n\u001b[0;32m     16\u001b[0m \u001b[38;5;28mprint\u001b[39m(polars_df)\n",
      "File \u001b[1;32mc:\\Users\\user\\anaconda3\\envs\\myenv\\lib\\site-packages\\polars\\io\\database\\functions.py:254\u001b[0m, in \u001b[0;36mread_database\u001b[1;34m(query, connection, iter_batches, batch_size, schema_overrides, infer_schema_length, execute_options)\u001b[0m\n\u001b[0;32m    252\u001b[0m \u001b[38;5;66;03m# return frame from arbitrary connections using the executor abstraction\u001b[39;00m\n\u001b[0;32m    253\u001b[0m \u001b[38;5;28;01mwith\u001b[39;00m ConnectionExecutor(connection) \u001b[38;5;28;01mas\u001b[39;00m cx:\n\u001b[1;32m--> 254\u001b[0m     \u001b[38;5;28;01mreturn\u001b[39;00m \u001b[43mcx\u001b[49m\u001b[38;5;241;43m.\u001b[39;49m\u001b[43mexecute\u001b[49m\u001b[43m(\u001b[49m\n\u001b[0;32m    255\u001b[0m \u001b[43m        \u001b[49m\u001b[43mquery\u001b[49m\u001b[38;5;241;43m=\u001b[39;49m\u001b[43mquery\u001b[49m\u001b[43m,\u001b[49m\n\u001b[0;32m    256\u001b[0m \u001b[43m        \u001b[49m\u001b[43moptions\u001b[49m\u001b[38;5;241;43m=\u001b[39;49m\u001b[43mexecute_options\u001b[49m\u001b[43m,\u001b[49m\n\u001b[0;32m    257\u001b[0m \u001b[43m    \u001b[49m\u001b[43m)\u001b[49m\u001b[38;5;241m.\u001b[39mto_polars(\n\u001b[0;32m    258\u001b[0m         batch_size\u001b[38;5;241m=\u001b[39mbatch_size,\n\u001b[0;32m    259\u001b[0m         iter_batches\u001b[38;5;241m=\u001b[39miter_batches,\n\u001b[0;32m    260\u001b[0m         schema_overrides\u001b[38;5;241m=\u001b[39mschema_overrides,\n\u001b[0;32m    261\u001b[0m         infer_schema_length\u001b[38;5;241m=\u001b[39minfer_schema_length,\n\u001b[0;32m    262\u001b[0m     )\n",
      "File \u001b[1;32mc:\\Users\\user\\anaconda3\\envs\\myenv\\lib\\site-packages\\polars\\io\\database\\_executor.py:501\u001b[0m, in \u001b[0;36mConnectionExecutor.execute\u001b[1;34m(self, query, options, select_queries_only)\u001b[0m\n\u001b[0;32m    495\u001b[0m     params \u001b[38;5;241m=\u001b[39m {}  \u001b[38;5;66;03m# type: ignore[assignment]\u001b[39;00m\n\u001b[0;32m    497\u001b[0m \u001b[38;5;28;01mif\u001b[39;00m \u001b[38;5;129;01mnot\u001b[39;00m options \u001b[38;5;129;01mor\u001b[39;00m \u001b[38;5;28many\u001b[39m(\n\u001b[0;32m    498\u001b[0m     p\u001b[38;5;241m.\u001b[39mkind \u001b[38;5;129;01min\u001b[39;00m (Parameter\u001b[38;5;241m.\u001b[39mKEYWORD_ONLY, Parameter\u001b[38;5;241m.\u001b[39mPOSITIONAL_OR_KEYWORD)\n\u001b[0;32m    499\u001b[0m     \u001b[38;5;28;01mfor\u001b[39;00m p \u001b[38;5;129;01min\u001b[39;00m params\u001b[38;5;241m.\u001b[39mvalues()\n\u001b[0;32m    500\u001b[0m ):\n\u001b[1;32m--> 501\u001b[0m     result \u001b[38;5;241m=\u001b[39m \u001b[43mcursor_execute\u001b[49m\u001b[43m(\u001b[49m\u001b[43mquery\u001b[49m\u001b[43m,\u001b[49m\u001b[43m \u001b[49m\u001b[38;5;241;43m*\u001b[39;49m\u001b[38;5;241;43m*\u001b[39;49m\u001b[43moptions\u001b[49m\u001b[43m)\u001b[49m\n\u001b[0;32m    502\u001b[0m \u001b[38;5;28;01melse\u001b[39;00m:\n\u001b[0;32m    503\u001b[0m     positional_options \u001b[38;5;241m=\u001b[39m (\n\u001b[0;32m    504\u001b[0m         options[o] \u001b[38;5;28;01mfor\u001b[39;00m o \u001b[38;5;129;01min\u001b[39;00m (params \u001b[38;5;129;01mor\u001b[39;00m options) \u001b[38;5;28;01mif\u001b[39;00m (\u001b[38;5;129;01mnot\u001b[39;00m options \u001b[38;5;129;01mor\u001b[39;00m o \u001b[38;5;129;01min\u001b[39;00m options)\n\u001b[0;32m    505\u001b[0m     )\n",
      "\u001b[1;31mUndefinedTable\u001b[0m: relation \"user_testhistory\" does not exist\nLINE 1: SELECT * FROM user_testhistory;\n                      ^\n"
     ]
    }
   ],
   "source": [
    "# RDS 연결\n",
    "try:\n",
    "    conn = psycopg2.connect(**db_config)\n",
    "    print(\"AWS RDS 연결 성공\")\n",
    "except Exception as e:\n",
    "    print(\"AWS RDS 연결 실패:\", e)\n",
    "    raise\n",
    "\n",
    "# SQL 쿼리 실행 및 Polars로 변환\n",
    "try:\n",
    "    query = \"SELECT * FROM user_testhistory;\"  # 원하는 SQL 쿼리\n",
    "    # Polars에서 직접 SQL 실행 및 DataFrame 변환\n",
    "    polars_df = pl.read_database(query, connection=conn)\n",
    "    \n",
    "    # 결과 출력\n",
    "    print(polars_df)\n",
    "finally:\n",
    "    # 연결 닫기\n",
    "    conn.close()\n",
    "    print(\"RDS 연결 닫힘\")"
   ]
  }
 ],
 "metadata": {
  "kernelspec": {
   "display_name": "myenv",
   "language": "python",
   "name": "python3"
  },
  "language_info": {
   "codemirror_mode": {
    "name": "ipython",
    "version": 3
   },
   "file_extension": ".py",
   "mimetype": "text/x-python",
   "name": "python",
   "nbconvert_exporter": "python",
   "pygments_lexer": "ipython3",
   "version": "3.8.20"
  }
 },
 "nbformat": 4,
 "nbformat_minor": 2
}
